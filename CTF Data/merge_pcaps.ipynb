{
 "cells": [
  {
   "attachments": {},
   "cell_type": "markdown",
   "metadata": {},
   "source": [
    "This script will iterate in all the folders in the same directory and look for pcaps. It will merge the contents of 5 folders at a time, generating a new pcapng inside the directory pcaps. Then it will remove any duplicate they have, and put the new files in the dir cleaned_pcaps. \n",
    "If you already don't have duplicated pcaps you can put them all in cleaned_pcaps and skip a few cells"
   ]
  },
  {
   "cell_type": "markdown",
   "metadata": {},
   "source": [
    "`wireshark-cli` must be installed"
   ]
  },
  {
   "cell_type": "code",
   "execution_count": null,
   "metadata": {},
   "outputs": [],
   "source": [
    "import os\n",
    "\n",
    "from pathlib import Path\n",
    "from concurrent.futures import ThreadPoolExecutor\n",
    "\n",
    "\n",
    "NTHREADS = 8"
   ]
  },
  {
   "attachments": {},
   "cell_type": "markdown",
   "metadata": {},
   "source": [
    "Take all the separated pcaps, merge them into a couple of files.\n",
    "This is an incredibly slow process; it took me 3+ hours.\n",
    "Consider running it overnight."
   ]
  },
  {
   "cell_type": "code",
   "execution_count": null,
   "metadata": {},
   "outputs": [],
   "source": [
    "args = \"\"\n",
    "i = 0\n",
    "with ThreadPoolExecutor(NTHREADS) as executor:\n",
    "    for dir in Path(\".\").iterdir():\n",
    "        if dir.is_file():\n",
    "            continue\n",
    "        args += f\"{dir.name}/* \"\n",
    "        i += 1\n",
    "        if i % 5 == 0:\n",
    "            command = f\"mergecap -w out{i/5:.0f}.pcapng {args}\"\n",
    "            print(command)\n",
    "            executor.submit(os.system, command)\n",
    "            args = \"\"\n",
    "command = f\"mergecap -w pcaps/out{i/5:.0f}.pcapng {args}\"\n",
    "print(command)\n",
    "os.system(command)"
   ]
  },
  {
   "attachments": {},
   "cell_type": "markdown",
   "metadata": {},
   "source": [
    "Remove most of the duplicate packets (there's plenty).\n",
    "Take into account that the biggest files are more than 5G, so keep in mind that 4 threads at a time might be too much. I had a freeze with 4. If you have 16G of RAM in your system, I suggest tuning it down to max 2 threads. If you have 8, make it 1."
   ]
  },
  {
   "cell_type": "code",
   "execution_count": null,
   "metadata": {},
   "outputs": [],
   "source": [
    "# 1m 54.5s\n",
    "with ThreadPoolExecutor(NTHREADS) as executor:\n",
    "    for filename in Path(\"pcaps\").iterdir():\n",
    "        cmd = f\"editcap -F pcap -d {filename} cleaned_pcaps/{filename.stem}_cleaned.pcap\"\n",
    "        executor.submit(os.system, cmd)\n"
   ]
  },
  {
   "attachments": {},
   "cell_type": "markdown",
   "metadata": {},
   "source": [
    "Merge all the cleaned files into a single pcapng. Why not do this first? There's so many duplicates that it would make for an enormous file (which also means high ram consumption that is not possible to parallelize)\n",
    "I went from 131.8G to 22.2G.  "
   ]
  },
  {
   "cell_type": "code",
   "execution_count": null,
   "metadata": {},
   "outputs": [],
   "source": [
    "# 1m 16.8s\n",
    "cmd = f\"mergecap -w out_final.pcap cleaned_pcaps/*.pcap\"\n",
    "print(f\"Executing `{cmd}`\")\n",
    "os.system(cmd)\n",
    "print(f\"Done merging all pcaps.\")"
   ]
  },
  {
   "attachments": {},
   "cell_type": "markdown",
   "metadata": {},
   "source": [
    "Clean the final pcap for good. I went from 22.2G to 9.9G"
   ]
  },
  {
   "cell_type": "code",
   "execution_count": null,
   "metadata": {},
   "outputs": [],
   "source": [
    "# 1m 22.9s\n",
    "filename = Path(\"out_final.pcap\")\n",
    "cmd = f\"editcap -F pcap -d {filename} {filename.stem}_cleaned.pcap\"\n",
    "print(f\"Executing `{cmd}`\")\n",
    "os.system(cmd)\n"
   ]
  },
  {
   "attachments": {},
   "cell_type": "markdown",
   "metadata": {},
   "source": [
    "Split to multiple pcaps of less than 1G for CICFlowMeter (It doesn't handle large files well https://github.com/ahlashkari/CICFlowMeter/issues/119/)"
   ]
  },
  {
   "attachments": {},
   "cell_type": "markdown",
   "metadata": {},
   "source": [
    "After this, use the fixed version of CICFlowMeter to compute the flow dataset from cleaned_pcaps/out_final_cleaned.pcapng\n"
   ]
  }
 ],
 "metadata": {
  "kernelspec": {
   "display_name": "Python 3",
   "language": "python",
   "name": "python3"
  },
  "language_info": {
   "codemirror_mode": {
    "name": "ipython",
    "version": 3
   },
   "file_extension": ".py",
   "mimetype": "text/x-python",
   "name": "python",
   "nbconvert_exporter": "python",
   "pygments_lexer": "ipython3",
   "version": "3.11.4"
  },
  "orig_nbformat": 4
 },
 "nbformat": 4,
 "nbformat_minor": 2
}
