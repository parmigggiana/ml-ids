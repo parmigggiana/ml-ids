{
 "cells": [
  {
   "attachments": {},
   "cell_type": "markdown",
   "metadata": {},
   "source": [
    "This script will iterate in all the folders in the same directory and look for pcaps. It will merge the contents of 5 folders at a time, generating a new pcapng inside the directory pcaps. Then it will remove any duplicate they have, and put the new files in the dir cleaned_pcaps."
   ]
  },
  {
   "cell_type": "code",
   "execution_count": 1,
   "metadata": {},
   "outputs": [],
   "source": [
    "import os\n",
    "\n",
    "from pathlib import Path\n",
    "from concurrent.futures import ThreadPoolExecutor\n",
    "\n",
    "\n",
    "NTHREADS = 8"
   ]
  },
  {
   "attachments": {},
   "cell_type": "markdown",
   "metadata": {},
   "source": [
    "Take all the separated pcaps, merge them into a couple of files.\n",
    "This is an incredibly slow process; it took me 3+ hours.\n",
    "Consider running it overnight."
   ]
  },
  {
   "cell_type": "code",
   "execution_count": null,
   "metadata": {},
   "outputs": [],
   "source": [
    "args = \"\"\n",
    "i = 0\n",
    "with ThreadPoolExecutor(NTHREADS) as executor:\n",
    "    for dir in Path(\".\").iterdir():\n",
    "        if dir.is_file():\n",
    "            continue\n",
    "        args += f\"{dir.name}/* \"\n",
    "        i += 1\n",
    "        if i % 5 == 0:\n",
    "            command = f\"mergecap -w out{i/5:.0f}.pcapng {args}\"\n",
    "            print(command)\n",
    "            executor.submit(os.system, command)\n",
    "            args = \"\"\n",
    "command = f\"mergecap -w pcaps/out{i/5:.0f}.pcapng {args}\"\n",
    "print(command)\n",
    "os.system(command)"
   ]
  },
  {
   "attachments": {},
   "cell_type": "markdown",
   "metadata": {},
   "source": [
    "Remove most of the duplicate packets (there's plenty).\n",
    "Take into account that the biggest files are more than 5G, so keep in mind that 4 threads at a time might be too much. I had a freeze with 4. If you have 16G of RAM in your system, I suggest tuning it down to max 2 threads. If you have 8, make it 1."
   ]
  },
  {
   "cell_type": "code",
   "execution_count": 2,
   "metadata": {},
   "outputs": [
    {
     "name": "stderr",
     "output_type": "stream",
     "text": [
      "2670252 packets seen, 2390693 packets skipped with duplicate window of 5 packets.\n",
      "2950081 packets seen, 2643848 packets skipped with duplicate window of 5 packets.\n",
      "3257364 packets seen, 2917489 packets skipped with duplicate window of 5 packets.\n",
      "3550386 packets seen, 3184676 packets skipped with duplicate window of 5 packets.\n",
      "3822946 packets seen, 3424800 packets skipped with duplicate window of 5 packets.\n",
      "4133967 packets seen, 3703876 packets skipped with duplicate window of 5 packets.\n",
      "4393184 packets seen, 3943731 packets skipped with duplicate window of 5 packets.\n",
      "4596077 packets seen, 4123025 packets skipped with duplicate window of 5 packets.\n",
      "4897141 packets seen, 4391344 packets skipped with duplicate window of 5 packets.\n",
      "5233294 packets seen, 4691221 packets skipped with duplicate window of 5 packets.\n",
      "5569366 packets seen, 4997789 packets skipped with duplicate window of 5 packets.\n",
      "5936182 packets seen, 5320031 packets skipped with duplicate window of 5 packets.\n",
      "6399451 packets seen, 5736831 packets skipped with duplicate window of 5 packets.\n",
      "6900747 packets seen, 6185343 packets skipped with duplicate window of 5 packets.\n",
      "7460856 packets seen, 6688359 packets skipped with duplicate window of 5 packets.\n",
      "1150882 packets seen, 0 packets skipped with duplicate window of 5 packets.\n",
      "1008088 packets seen, 885654 packets skipped with duplicate window of 5 packets.\n",
      "8053466 packets seen, 7221302 packets skipped with duplicate window of 5 packets.\n",
      "8587629 packets seen, 7697551 packets skipped with duplicate window of 5 packets.\n",
      "9338961 packets seen, 8355054 packets skipped with duplicate window of 5 packets.\n",
      "970452 packets seen, 0 packets skipped with duplicate window of 5 packets.\n",
      "10224869 packets seen, 9166563 packets skipped with duplicate window of 5 packets.\n",
      "11007703 packets seen, 9871556 packets skipped with duplicate window of 5 packets.\n",
      "11777632 packets seen, 10549519 packets skipped with duplicate window of 5 packets.\n",
      "12560245 packets seen, 11281109 packets skipped with duplicate window of 5 packets.\n",
      "13168752 packets seen, 11817740 packets skipped with duplicate window of 5 packets.\n",
      "1253977 packets seen, 1116667 packets skipped with duplicate window of 5 packets.\n",
      "13942532 packets seen, 12506584 packets skipped with duplicate window of 5 packets.\n",
      "14838498 packets seen, 13321467 packets skipped with duplicate window of 5 packets.\n",
      "15566876 packets seen, 13979866 packets skipped with duplicate window of 5 packets.\n",
      "16244722 packets seen, 14592673 packets skipped with duplicate window of 5 packets.\n",
      "16865705 packets seen, 15147272 packets skipped with duplicate window of 5 packets.\n",
      "17498250 packets seen, 15718178 packets skipped with duplicate window of 5 packets.\n",
      "18061953 packets seen, 16228079 packets skipped with duplicate window of 5 packets.\n",
      "18756885 packets seen, 16840213 packets skipped with duplicate window of 5 packets.\n",
      "19539233 packets seen, 17550705 packets skipped with duplicate window of 5 packets.\n",
      "20295644 packets seen, 18223886 packets skipped with duplicate window of 5 packets.\n",
      "1464903 packets seen, 1307823 packets skipped with duplicate window of 5 packets.\n",
      "21100078 packets seen, 18951369 packets skipped with duplicate window of 5 packets.\n",
      "21864786 packets seen, 19642253 packets skipped with duplicate window of 5 packets.\n",
      "22606050 packets seen, 20308374 packets skipped with duplicate window of 5 packets.\n",
      "23385463 packets seen, 21007565 packets skipped with duplicate window of 5 packets.\n",
      "24155735 packets seen, 21694220 packets skipped with duplicate window of 5 packets.\n",
      "25107782 packets seen, 22549034 packets skipped with duplicate window of 5 packets.\n",
      "26124216 packets seen, 23462382 packets skipped with duplicate window of 5 packets.\n",
      "1678307 packets seen, 1502473 packets skipped with duplicate window of 5 packets.\n",
      "1879937 packets seen, 1683989 packets skipped with duplicate window of 5 packets.\n",
      "26950636 packets seen, 24218594 packets skipped with duplicate window of 5 packets.\n",
      "2108853 packets seen, 1885284 packets skipped with duplicate window of 5 packets.\n",
      "27715258 packets seen, 24908012 packets skipped with duplicate window of 5 packets.\n",
      "2396704 packets seen, 2145313 packets skipped with duplicate window of 5 packets.\n",
      "28268825 packets seen, 25387889 packets skipped with duplicate window of 5 packets.\n",
      "11358292 packets seen, 8517625 packets skipped with duplicate window of 5 packets.\n",
      "28327740 packets seen, 25423354 packets skipped with duplicate window of 5 packets.\n",
      "28383412 packets seen, 25455764 packets skipped with duplicate window of 5 packets.\n",
      "28401133 packets seen, 25515537 packets skipped with duplicate window of 5 packets.\n"
     ]
    }
   ],
   "source": [
    "# 1m 54.5s\n",
    "with ThreadPoolExecutor(NTHREADS) as executor:\n",
    "    for filename in Path(\"pcaps\").iterdir():\n",
    "        cmd = f\"editcap -F pcap -d {filename} cleaned_pcaps/{filename.stem}_cleaned.pcap\"\n",
    "        executor.submit(os.system, cmd)\n"
   ]
  },
  {
   "attachments": {},
   "cell_type": "markdown",
   "metadata": {},
   "source": [
    "Merge all the cleaned files into a single pcapng. Why not do this first? There's so many duplicates that it would make for an enormous file (which also means high ram consumption that is not possible to parallelize)\n",
    "I went from 131.8G to 22.2G.  "
   ]
  },
  {
   "cell_type": "code",
   "execution_count": 10,
   "metadata": {},
   "outputs": [
    {
     "name": "stdout",
     "output_type": "stream",
     "text": [
      "Executing `mergecap -w out_final.pcapng new_pcaps/*.pcapng`\n",
      "Done merging all pcaps.\n"
     ]
    }
   ],
   "source": [
    "# 1m 16.8s\n",
    "cmd = f\"mergecap -w out_final.pcap cleaned_pcaps/*.pcap\"\n",
    "print(f\"Executing `{cmd}`\")\n",
    "os.system(cmd)\n",
    "print(f\"Done merging all pcaps.\")"
   ]
  },
  {
   "attachments": {},
   "cell_type": "markdown",
   "metadata": {},
   "source": [
    "Clean the final pcap for good. I went from 22.2G to 9.9G"
   ]
  },
  {
   "cell_type": "code",
   "execution_count": 3,
   "metadata": {},
   "outputs": [
    {
     "name": "stdout",
     "output_type": "stream",
     "text": [
      "Executing `editcap -F pcap -d out_final.pcapng out_final_cleaned.pcap`\n"
     ]
    },
    {
     "name": "stderr",
     "output_type": "stream",
     "text": [
      "73780810 packets seen, 68460013 packets skipped with duplicate window of 5 packets.\n"
     ]
    },
    {
     "data": {
      "text/plain": [
       "0"
      ]
     },
     "execution_count": 3,
     "metadata": {},
     "output_type": "execute_result"
    }
   ],
   "source": [
    "# 1m 22.9s\n",
    "filename = Path(\"out_final.pcap\")\n",
    "cmd = f\"editcap -F pcap -d {filename} {filename.stem}_cleaned.pcap\"\n",
    "print(f\"Executing `{cmd}`\")\n",
    "os.system(cmd)\n"
   ]
  },
  {
   "attachments": {},
   "cell_type": "markdown",
   "metadata": {},
   "source": [
    "Split to multiple pcaps of less than 1G for CICFlowMeter (It doesn't handle large files well https://github.com/ahlashkari/CICFlowMeter/issues/119/)"
   ]
  },
  {
   "attachments": {},
   "cell_type": "markdown",
   "metadata": {},
   "source": [
    "After this, use the fixed version of CICFlowMeter to compute the flow dataset from cleaned_pcaps/out_final_cleaned.pcapng\n"
   ]
  }
 ],
 "metadata": {
  "kernelspec": {
   "display_name": "Python 3",
   "language": "python",
   "name": "python3"
  },
  "language_info": {
   "codemirror_mode": {
    "name": "ipython",
    "version": 3
   },
   "file_extension": ".py",
   "mimetype": "text/x-python",
   "name": "python",
   "nbconvert_exporter": "python",
   "pygments_lexer": "ipython3",
   "version": "3.11.3"
  },
  "orig_nbformat": 4
 },
 "nbformat": 4,
 "nbformat_minor": 2
}
