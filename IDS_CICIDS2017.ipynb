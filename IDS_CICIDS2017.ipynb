{
  "cells": [
    {
      "attachments": {},
      "cell_type": "markdown",
      "metadata": {
        "colab_type": "text",
        "id": "view-in-github"
      },
      "source": [
        "<a href=\"https://colab.research.google.com/github/parmigggiana/ml-ids/blob/main/IDS_CICIDS2017.ipynb\" target=\"_parent\"><img src=\"https://colab.research.google.com/assets/colab-badge.svg\" alt=\"Open In Colab\"/></a>"
      ]
    },
    {
      "attachments": {},
      "cell_type": "markdown",
      "metadata": {
        "id": "tGLYJuXmFBZI"
      },
      "source": [
        "# Web attack detection using CICIDS2017 dataset"
      ]
    },
    {
      "attachments": {},
      "cell_type": "markdown",
      "metadata": {
        "id": "lnuSXVKD8HKk"
      },
      "source": [
        "This is an edited version of the original https://github.com/fisher85/ml-cybersecurity/blob/master/python-web-attack-detection/web-attack-detection.ipynb\n",
        "\n",
        "I have adapted the script to use the [corrected CIC-IDS-2017 dataset](https://intrusion-detection.distrinet-research.be/CNS2022/index.html).\n",
        "Instead of selecting a single day, I used the whole dataset (~2 mil. entries).\n",
        "The script was written and corrected iterating on only one of those days, to make it easier to test that everything was working as intended. After it was done, I re-ran it with all the available data overnight and saved the results.\n",
        "I changed the math in the undersampling section to make it easier and more direct. I also chose to only undersample based on probability instead of having an hard limit. Given the size of the dataset, this is mostly ininfluent.\n",
        "I have also re-done the feature selection and analysis.\n",
        "The original trained and selected features on the whole dataset, causing obvious overfitting. After the data preparation I took out a portion of the dataset which was never used again, if not for the final test after everything else was set.  \n",
        "After that, I added testing on the corrected CSE-CIC-IDS-2018 dataset and on my own CTF Dataset."
      ]
    },
    {
      "cell_type": "code",
      "execution_count": 43,
      "metadata": {},
      "outputs": [],
      "source": [
        "import pandas as pd\n",
        "import numpy as np\n",
        "from sklearn import preprocessing\n",
        "import matplotlib.pyplot as plt\n",
        "%matplotlib inline"
      ]
    },
    {
      "attachments": {},
      "cell_type": "markdown",
      "metadata": {
        "id": "SCEkDfpOFPQX"
      },
      "source": [
        "## Data preprocessing\n",
        "\n",
        "Source: https://github.com/bozbil/Anomaly-Detection-in-Networks-Using-Machine-Learning/blob/master/01_preprocessing.ipynb [Kostas2018]."
      ]
    },
    {
      "attachments": {},
      "cell_type": "markdown",
      "metadata": {},
      "source": [
        "### Download and clean data"
      ]
    },
    {
      "attachments": {},
      "cell_type": "markdown",
      "metadata": {
        "id": "gX6aYMEKqe1K"
      },
      "source": [
        "I will use the corrected CIC-IDS-2017 instead of the original."
      ]
    },
    {
      "cell_type": "code",
      "execution_count": 44,
      "metadata": {
        "id": "9A526YEoqe1K"
      },
      "outputs": [
        {
          "name": "stdout",
          "output_type": "stream",
          "text": [
            "--2023-06-18 12:53:10--  https://intrusion-detection.distrinet-research.be/CNS2022/Datasets/CICIDS2017_improved.zip\n",
            "Resolving intrusion-detection.distrinet-research.be (intrusion-detection.distrinet-research.be)... 134.58.40.205\n",
            "Connecting to intrusion-detection.distrinet-research.be (intrusion-detection.distrinet-research.be)|134.58.40.205|:443... connected.\n",
            "HTTP request sent, awaiting response... 200 OK\n",
            "Length: 343549013 (328M) [application/zip]\n",
            "Saving to: ‘dataset.zip’\n",
            "\n",
            "dataset.zip         100%[===================>] 327.63M  7.41MB/s    in 45s     \n",
            "\n",
            "2023-06-18 12:53:55 (7.30 MB/s) - ‘dataset.zip’ saved [343549013/343549013]\n",
            "\n",
            "Archive:  dataset.zip\n"
          ]
        }
      ],
      "source": [
        "!wget https://intrusion-detection.distrinet-research.be/CNS2022/Datasets/CICIDS2017_improved.zip -O dataset.zip\n",
        "!unzip -u -d Corrected_CICIDS2017/ dataset.zip "
      ]
    },
    {
      "attachments": {},
      "cell_type": "markdown",
      "metadata": {
        "id": "i4vnx_OaGAl0"
      },
      "source": [
        "Using encoding='latin' avoids the UnicodeDecodeError we get otherwise"
      ]
    },
    {
      "cell_type": "code",
      "execution_count": 45,
      "metadata": {
        "id": "yIqeKHKYGCoz"
      },
      "outputs": [
        {
          "data": {
            "text/html": [
              "<div>\n",
              "<style scoped>\n",
              "    .dataframe tbody tr th:only-of-type {\n",
              "        vertical-align: middle;\n",
              "    }\n",
              "\n",
              "    .dataframe tbody tr th {\n",
              "        vertical-align: top;\n",
              "    }\n",
              "\n",
              "    .dataframe thead th {\n",
              "        text-align: right;\n",
              "    }\n",
              "</style>\n",
              "<table border=\"1\" class=\"dataframe\">\n",
              "  <thead>\n",
              "    <tr style=\"text-align: right;\">\n",
              "      <th></th>\n",
              "      <th>Flow ID</th>\n",
              "      <th>Src IP</th>\n",
              "      <th>Src Port</th>\n",
              "      <th>Dst IP</th>\n",
              "      <th>Dst Port</th>\n",
              "      <th>Protocol</th>\n",
              "      <th>Timestamp</th>\n",
              "      <th>Flow Duration</th>\n",
              "      <th>Total Fwd Packet</th>\n",
              "      <th>Total Bwd packets</th>\n",
              "      <th>...</th>\n",
              "      <th>Active Min</th>\n",
              "      <th>Idle Mean</th>\n",
              "      <th>Idle Std</th>\n",
              "      <th>Idle Max</th>\n",
              "      <th>Idle Min</th>\n",
              "      <th>ICMP Code</th>\n",
              "      <th>ICMP Type</th>\n",
              "      <th>Total TCP Flow Time</th>\n",
              "      <th>Label</th>\n",
              "      <th>Attempted Category</th>\n",
              "    </tr>\n",
              "  </thead>\n",
              "  <tbody>\n",
              "    <tr>\n",
              "      <th>306881</th>\n",
              "      <td>192.168.10.14-192.168.10.3-49185-53-17</td>\n",
              "      <td>192.168.10.14</td>\n",
              "      <td>49185</td>\n",
              "      <td>192.168.10.3</td>\n",
              "      <td>53</td>\n",
              "      <td>17</td>\n",
              "      <td>2017-07-05 11:46:13.554381</td>\n",
              "      <td>34546</td>\n",
              "      <td>2</td>\n",
              "      <td>2</td>\n",
              "      <td>...</td>\n",
              "      <td>0</td>\n",
              "      <td>0.000000e+00</td>\n",
              "      <td>0.000000e+00</td>\n",
              "      <td>0</td>\n",
              "      <td>0</td>\n",
              "      <td>-1</td>\n",
              "      <td>-1</td>\n",
              "      <td>0</td>\n",
              "      <td>BENIGN</td>\n",
              "      <td>-1</td>\n",
              "    </tr>\n",
              "    <tr>\n",
              "      <th>269713</th>\n",
              "      <td>192.168.10.3-192.168.10.1-62491-53-17</td>\n",
              "      <td>192.168.10.3</td>\n",
              "      <td>62491</td>\n",
              "      <td>192.168.10.1</td>\n",
              "      <td>53</td>\n",
              "      <td>17</td>\n",
              "      <td>2017-07-05 19:50:40.169960</td>\n",
              "      <td>24188</td>\n",
              "      <td>1</td>\n",
              "      <td>1</td>\n",
              "      <td>...</td>\n",
              "      <td>0</td>\n",
              "      <td>0.000000e+00</td>\n",
              "      <td>0.000000e+00</td>\n",
              "      <td>0</td>\n",
              "      <td>0</td>\n",
              "      <td>-1</td>\n",
              "      <td>-1</td>\n",
              "      <td>0</td>\n",
              "      <td>BENIGN</td>\n",
              "      <td>-1</td>\n",
              "    </tr>\n",
              "    <tr>\n",
              "      <th>1406914</th>\n",
              "      <td>192.168.10.9-192.168.10.3-49220-53-17</td>\n",
              "      <td>192.168.10.9</td>\n",
              "      <td>49220</td>\n",
              "      <td>192.168.10.3</td>\n",
              "      <td>53</td>\n",
              "      <td>17</td>\n",
              "      <td>2017-07-03 17:13:06.327104</td>\n",
              "      <td>169</td>\n",
              "      <td>2</td>\n",
              "      <td>2</td>\n",
              "      <td>...</td>\n",
              "      <td>0</td>\n",
              "      <td>0.000000e+00</td>\n",
              "      <td>0.000000e+00</td>\n",
              "      <td>0</td>\n",
              "      <td>0</td>\n",
              "      <td>-1</td>\n",
              "      <td>-1</td>\n",
              "      <td>0</td>\n",
              "      <td>BENIGN</td>\n",
              "      <td>-1</td>\n",
              "    </tr>\n",
              "    <tr>\n",
              "      <th>688424</th>\n",
              "      <td>192.168.10.5-50.115.208.113-51793-443-6</td>\n",
              "      <td>192.168.10.5</td>\n",
              "      <td>51793</td>\n",
              "      <td>50.115.208.113</td>\n",
              "      <td>443</td>\n",
              "      <td>6</td>\n",
              "      <td>2017-07-07 15:16:55.250846</td>\n",
              "      <td>116493505</td>\n",
              "      <td>21</td>\n",
              "      <td>21</td>\n",
              "      <td>...</td>\n",
              "      <td>86552</td>\n",
              "      <td>1.000133e+07</td>\n",
              "      <td>1.436556e+04</td>\n",
              "      <td>10010315</td>\n",
              "      <td>9958888</td>\n",
              "      <td>-1</td>\n",
              "      <td>-1</td>\n",
              "      <td>116493505</td>\n",
              "      <td>BENIGN</td>\n",
              "      <td>-1</td>\n",
              "    </tr>\n",
              "    <tr>\n",
              "      <th>855923</th>\n",
              "      <td>192.168.10.15-52.84.145.150-49794-443-6</td>\n",
              "      <td>192.168.10.15</td>\n",
              "      <td>49794</td>\n",
              "      <td>52.84.145.150</td>\n",
              "      <td>443</td>\n",
              "      <td>6</td>\n",
              "      <td>2017-07-07 12:15:34.360144</td>\n",
              "      <td>115763624</td>\n",
              "      <td>23</td>\n",
              "      <td>23</td>\n",
              "      <td>...</td>\n",
              "      <td>21936</td>\n",
              "      <td>9.616680e+06</td>\n",
              "      <td>1.332814e+06</td>\n",
              "      <td>10005487</td>\n",
              "      <td>5384430</td>\n",
              "      <td>-1</td>\n",
              "      <td>-1</td>\n",
              "      <td>115763624</td>\n",
              "      <td>BENIGN</td>\n",
              "      <td>-1</td>\n",
              "    </tr>\n",
              "    <tr>\n",
              "      <th>...</th>\n",
              "      <td>...</td>\n",
              "      <td>...</td>\n",
              "      <td>...</td>\n",
              "      <td>...</td>\n",
              "      <td>...</td>\n",
              "      <td>...</td>\n",
              "      <td>...</td>\n",
              "      <td>...</td>\n",
              "      <td>...</td>\n",
              "      <td>...</td>\n",
              "      <td>...</td>\n",
              "      <td>...</td>\n",
              "      <td>...</td>\n",
              "      <td>...</td>\n",
              "      <td>...</td>\n",
              "      <td>...</td>\n",
              "      <td>...</td>\n",
              "      <td>...</td>\n",
              "      <td>...</td>\n",
              "      <td>...</td>\n",
              "      <td>...</td>\n",
              "    </tr>\n",
              "    <tr>\n",
              "      <th>1103196</th>\n",
              "      <td>192.168.10.3-192.168.10.1-62253-53-17</td>\n",
              "      <td>192.168.10.3</td>\n",
              "      <td>62253</td>\n",
              "      <td>192.168.10.1</td>\n",
              "      <td>53</td>\n",
              "      <td>17</td>\n",
              "      <td>2017-07-03 14:03:08.328643</td>\n",
              "      <td>449</td>\n",
              "      <td>1</td>\n",
              "      <td>1</td>\n",
              "      <td>...</td>\n",
              "      <td>0</td>\n",
              "      <td>0.000000e+00</td>\n",
              "      <td>0.000000e+00</td>\n",
              "      <td>0</td>\n",
              "      <td>0</td>\n",
              "      <td>-1</td>\n",
              "      <td>-1</td>\n",
              "      <td>0</td>\n",
              "      <td>BENIGN</td>\n",
              "      <td>-1</td>\n",
              "    </tr>\n",
              "    <tr>\n",
              "      <th>1225278</th>\n",
              "      <td>192.168.10.16-217.196.36.3-38154-80-6</td>\n",
              "      <td>192.168.10.16</td>\n",
              "      <td>38154</td>\n",
              "      <td>217.196.36.3</td>\n",
              "      <td>80</td>\n",
              "      <td>6</td>\n",
              "      <td>2017-07-03 12:57:37.679400</td>\n",
              "      <td>15890446</td>\n",
              "      <td>13</td>\n",
              "      <td>11</td>\n",
              "      <td>...</td>\n",
              "      <td>838844</td>\n",
              "      <td>1.000802e+07</td>\n",
              "      <td>0.000000e+00</td>\n",
              "      <td>10008019</td>\n",
              "      <td>10008019</td>\n",
              "      <td>-1</td>\n",
              "      <td>-1</td>\n",
              "      <td>15890446</td>\n",
              "      <td>BENIGN</td>\n",
              "      <td>-1</td>\n",
              "    </tr>\n",
              "    <tr>\n",
              "      <th>809711</th>\n",
              "      <td>172.16.0.1-192.168.10.50-18188-80-6</td>\n",
              "      <td>172.16.0.1</td>\n",
              "      <td>18188</td>\n",
              "      <td>192.168.10.50</td>\n",
              "      <td>80</td>\n",
              "      <td>6</td>\n",
              "      <td>2017-07-07 18:59:25.024563</td>\n",
              "      <td>11443994</td>\n",
              "      <td>9</td>\n",
              "      <td>5</td>\n",
              "      <td>...</td>\n",
              "      <td>1411127</td>\n",
              "      <td>1.003287e+07</td>\n",
              "      <td>0.000000e+00</td>\n",
              "      <td>10032867</td>\n",
              "      <td>10032867</td>\n",
              "      <td>-1</td>\n",
              "      <td>-1</td>\n",
              "      <td>11443994</td>\n",
              "      <td>DDoS</td>\n",
              "      <td>-1</td>\n",
              "    </tr>\n",
              "    <tr>\n",
              "      <th>1776643</th>\n",
              "      <td>192.168.10.3-192.168.10.1-62318-53-17</td>\n",
              "      <td>192.168.10.3</td>\n",
              "      <td>62318</td>\n",
              "      <td>192.168.10.1</td>\n",
              "      <td>53</td>\n",
              "      <td>17</td>\n",
              "      <td>2017-07-06 15:17:41.835916</td>\n",
              "      <td>120696</td>\n",
              "      <td>1</td>\n",
              "      <td>1</td>\n",
              "      <td>...</td>\n",
              "      <td>0</td>\n",
              "      <td>0.000000e+00</td>\n",
              "      <td>0.000000e+00</td>\n",
              "      <td>0</td>\n",
              "      <td>0</td>\n",
              "      <td>-1</td>\n",
              "      <td>-1</td>\n",
              "      <td>0</td>\n",
              "      <td>BENIGN</td>\n",
              "      <td>-1</td>\n",
              "    </tr>\n",
              "    <tr>\n",
              "      <th>527437</th>\n",
              "      <td>192.168.10.15-205.174.165.73-53274-8080-6</td>\n",
              "      <td>192.168.10.15</td>\n",
              "      <td>53274</td>\n",
              "      <td>205.174.165.73</td>\n",
              "      <td>8080</td>\n",
              "      <td>6</td>\n",
              "      <td>2017-07-07 14:23:26.914755</td>\n",
              "      <td>966</td>\n",
              "      <td>1</td>\n",
              "      <td>1</td>\n",
              "      <td>...</td>\n",
              "      <td>0</td>\n",
              "      <td>0.000000e+00</td>\n",
              "      <td>0.000000e+00</td>\n",
              "      <td>0</td>\n",
              "      <td>0</td>\n",
              "      <td>-1</td>\n",
              "      <td>-1</td>\n",
              "      <td>966</td>\n",
              "      <td>Botnet - Attempted</td>\n",
              "      <td>1</td>\n",
              "    </tr>\n",
              "  </tbody>\n",
              "</table>\n",
              "<p>100000 rows × 90 columns</p>\n",
              "</div>"
            ],
            "text/plain": [
              "                                           Flow ID         Src IP  Src Port  \\\n",
              "306881      192.168.10.14-192.168.10.3-49185-53-17  192.168.10.14     49185   \n",
              "269713       192.168.10.3-192.168.10.1-62491-53-17   192.168.10.3     62491   \n",
              "1406914      192.168.10.9-192.168.10.3-49220-53-17   192.168.10.9     49220   \n",
              "688424     192.168.10.5-50.115.208.113-51793-443-6   192.168.10.5     51793   \n",
              "855923     192.168.10.15-52.84.145.150-49794-443-6  192.168.10.15     49794   \n",
              "...                                            ...            ...       ...   \n",
              "1103196      192.168.10.3-192.168.10.1-62253-53-17   192.168.10.3     62253   \n",
              "1225278      192.168.10.16-217.196.36.3-38154-80-6  192.168.10.16     38154   \n",
              "809711         172.16.0.1-192.168.10.50-18188-80-6     172.16.0.1     18188   \n",
              "1776643      192.168.10.3-192.168.10.1-62318-53-17   192.168.10.3     62318   \n",
              "527437   192.168.10.15-205.174.165.73-53274-8080-6  192.168.10.15     53274   \n",
              "\n",
              "                 Dst IP  Dst Port  Protocol                   Timestamp  \\\n",
              "306881     192.168.10.3        53        17  2017-07-05 11:46:13.554381   \n",
              "269713     192.168.10.1        53        17  2017-07-05 19:50:40.169960   \n",
              "1406914    192.168.10.3        53        17  2017-07-03 17:13:06.327104   \n",
              "688424   50.115.208.113       443         6  2017-07-07 15:16:55.250846   \n",
              "855923    52.84.145.150       443         6  2017-07-07 12:15:34.360144   \n",
              "...                 ...       ...       ...                         ...   \n",
              "1103196    192.168.10.1        53        17  2017-07-03 14:03:08.328643   \n",
              "1225278    217.196.36.3        80         6  2017-07-03 12:57:37.679400   \n",
              "809711    192.168.10.50        80         6  2017-07-07 18:59:25.024563   \n",
              "1776643    192.168.10.1        53        17  2017-07-06 15:17:41.835916   \n",
              "527437   205.174.165.73      8080         6  2017-07-07 14:23:26.914755   \n",
              "\n",
              "         Flow Duration  Total Fwd Packet  Total Bwd packets  ...  Active Min  \\\n",
              "306881           34546                 2                  2  ...           0   \n",
              "269713           24188                 1                  1  ...           0   \n",
              "1406914            169                 2                  2  ...           0   \n",
              "688424       116493505                21                 21  ...       86552   \n",
              "855923       115763624                23                 23  ...       21936   \n",
              "...                ...               ...                ...  ...         ...   \n",
              "1103196            449                 1                  1  ...           0   \n",
              "1225278       15890446                13                 11  ...      838844   \n",
              "809711        11443994                 9                  5  ...     1411127   \n",
              "1776643         120696                 1                  1  ...           0   \n",
              "527437             966                 1                  1  ...           0   \n",
              "\n",
              "            Idle Mean      Idle Std  Idle Max  Idle Min  ICMP Code  ICMP Type  \\\n",
              "306881   0.000000e+00  0.000000e+00         0         0         -1         -1   \n",
              "269713   0.000000e+00  0.000000e+00         0         0         -1         -1   \n",
              "1406914  0.000000e+00  0.000000e+00         0         0         -1         -1   \n",
              "688424   1.000133e+07  1.436556e+04  10010315   9958888         -1         -1   \n",
              "855923   9.616680e+06  1.332814e+06  10005487   5384430         -1         -1   \n",
              "...               ...           ...       ...       ...        ...        ...   \n",
              "1103196  0.000000e+00  0.000000e+00         0         0         -1         -1   \n",
              "1225278  1.000802e+07  0.000000e+00  10008019  10008019         -1         -1   \n",
              "809711   1.003287e+07  0.000000e+00  10032867  10032867         -1         -1   \n",
              "1776643  0.000000e+00  0.000000e+00         0         0         -1         -1   \n",
              "527437   0.000000e+00  0.000000e+00         0         0         -1         -1   \n",
              "\n",
              "         Total TCP Flow Time               Label  Attempted Category  \n",
              "306881                     0              BENIGN                  -1  \n",
              "269713                     0              BENIGN                  -1  \n",
              "1406914                    0              BENIGN                  -1  \n",
              "688424             116493505              BENIGN                  -1  \n",
              "855923             115763624              BENIGN                  -1  \n",
              "...                      ...                 ...                 ...  \n",
              "1103196                    0              BENIGN                  -1  \n",
              "1225278             15890446              BENIGN                  -1  \n",
              "809711              11443994                DDoS                  -1  \n",
              "1776643                    0              BENIGN                  -1  \n",
              "527437                   966  Botnet - Attempted                   1  \n",
              "\n",
              "[100000 rows x 90 columns]"
            ]
          },
          "execution_count": 45,
          "metadata": {},
          "output_type": "execute_result"
        }
      ],
      "source": [
        "from pathlib import Path\n",
        "li = []\n",
        "for filename in Path('./Corrected_CICIDS2017/').glob('*.csv'):\n",
        "  li.append(pd.read_csv(filename, index_col=0, encoding='latin'))\n",
        "df = pd.concat(li, axis=0, ignore_index=True)\n",
        "df.sample(100000) # random subset of 100k samples, REMOVE WHEN YOU'RE DONE"
      ]
    },
    {
      "cell_type": "code",
      "execution_count": 46,
      "metadata": {
        "colab": {
          "base_uri": "https://localhost:8080/",
          "height": 869
        },
        "id": "IXElh2cwhwa2",
        "outputId": "3e4ec157-4733-4f28-ab09-a8f53fdab2f7"
      },
      "outputs": [
        {
          "data": {
            "text/html": [
              "<div>\n",
              "<style scoped>\n",
              "    .dataframe tbody tr th:only-of-type {\n",
              "        vertical-align: middle;\n",
              "    }\n",
              "\n",
              "    .dataframe tbody tr th {\n",
              "        vertical-align: top;\n",
              "    }\n",
              "\n",
              "    .dataframe thead th {\n",
              "        text-align: right;\n",
              "    }\n",
              "</style>\n",
              "<table border=\"1\" class=\"dataframe\">\n",
              "  <thead>\n",
              "    <tr style=\"text-align: right;\">\n",
              "      <th></th>\n",
              "      <th>Flow ID</th>\n",
              "      <th>Src IP</th>\n",
              "      <th>Src Port</th>\n",
              "      <th>Dst IP</th>\n",
              "      <th>Dst Port</th>\n",
              "      <th>Protocol</th>\n",
              "      <th>Timestamp</th>\n",
              "      <th>Flow Duration</th>\n",
              "      <th>Total Fwd Packet</th>\n",
              "      <th>Total Bwd packets</th>\n",
              "      <th>...</th>\n",
              "      <th>Active Min</th>\n",
              "      <th>Idle Mean</th>\n",
              "      <th>Idle Std</th>\n",
              "      <th>Idle Max</th>\n",
              "      <th>Idle Min</th>\n",
              "      <th>ICMP Code</th>\n",
              "      <th>ICMP Type</th>\n",
              "      <th>Total TCP Flow Time</th>\n",
              "      <th>Label</th>\n",
              "      <th>Attempted Category</th>\n",
              "    </tr>\n",
              "  </thead>\n",
              "  <tbody>\n",
              "    <tr>\n",
              "      <th>0</th>\n",
              "      <td>192.168.10.9-52.197.242.182-13793-443-6</td>\n",
              "      <td>192.168.10.9</td>\n",
              "      <td>13793</td>\n",
              "      <td>52.197.242.182</td>\n",
              "      <td>443</td>\n",
              "      <td>6</td>\n",
              "      <td>2017-07-05 11:43:34.783702</td>\n",
              "      <td>187889</td>\n",
              "      <td>1</td>\n",
              "      <td>1</td>\n",
              "      <td>...</td>\n",
              "      <td>0</td>\n",
              "      <td>0.0</td>\n",
              "      <td>0.0</td>\n",
              "      <td>0</td>\n",
              "      <td>0</td>\n",
              "      <td>-1</td>\n",
              "      <td>-1</td>\n",
              "      <td>187889</td>\n",
              "      <td>BENIGN</td>\n",
              "      <td>-1</td>\n",
              "    </tr>\n",
              "    <tr>\n",
              "      <th>1</th>\n",
              "      <td>192.168.10.9-52.197.242.182-13793-443-6</td>\n",
              "      <td>192.168.10.9</td>\n",
              "      <td>13793</td>\n",
              "      <td>52.197.242.182</td>\n",
              "      <td>443</td>\n",
              "      <td>6</td>\n",
              "      <td>2017-07-05 11:43:35.484765</td>\n",
              "      <td>187758</td>\n",
              "      <td>1</td>\n",
              "      <td>1</td>\n",
              "      <td>...</td>\n",
              "      <td>0</td>\n",
              "      <td>0.0</td>\n",
              "      <td>0.0</td>\n",
              "      <td>0</td>\n",
              "      <td>0</td>\n",
              "      <td>-1</td>\n",
              "      <td>-1</td>\n",
              "      <td>187758</td>\n",
              "      <td>BENIGN</td>\n",
              "      <td>-1</td>\n",
              "    </tr>\n",
              "    <tr>\n",
              "      <th>2</th>\n",
              "      <td>192.168.10.9-54.65.28.113-13794-443-6</td>\n",
              "      <td>192.168.10.9</td>\n",
              "      <td>13794</td>\n",
              "      <td>54.65.28.113</td>\n",
              "      <td>443</td>\n",
              "      <td>6</td>\n",
              "      <td>2017-07-05 11:43:36.375217</td>\n",
              "      <td>189882</td>\n",
              "      <td>1</td>\n",
              "      <td>1</td>\n",
              "      <td>...</td>\n",
              "      <td>0</td>\n",
              "      <td>0.0</td>\n",
              "      <td>0.0</td>\n",
              "      <td>0</td>\n",
              "      <td>0</td>\n",
              "      <td>-1</td>\n",
              "      <td>-1</td>\n",
              "      <td>189882</td>\n",
              "      <td>BENIGN</td>\n",
              "      <td>-1</td>\n",
              "    </tr>\n",
              "    <tr>\n",
              "      <th>3</th>\n",
              "      <td>192.168.10.9-54.65.28.113-13794-443-6</td>\n",
              "      <td>192.168.10.9</td>\n",
              "      <td>13794</td>\n",
              "      <td>54.65.28.113</td>\n",
              "      <td>443</td>\n",
              "      <td>6</td>\n",
              "      <td>2017-07-05 11:43:37.075970</td>\n",
              "      <td>190117</td>\n",
              "      <td>1</td>\n",
              "      <td>1</td>\n",
              "      <td>...</td>\n",
              "      <td>0</td>\n",
              "      <td>0.0</td>\n",
              "      <td>0.0</td>\n",
              "      <td>0</td>\n",
              "      <td>0</td>\n",
              "      <td>-1</td>\n",
              "      <td>-1</td>\n",
              "      <td>190117</td>\n",
              "      <td>BENIGN</td>\n",
              "      <td>-1</td>\n",
              "    </tr>\n",
              "    <tr>\n",
              "      <th>4</th>\n",
              "      <td>192.168.10.9-52.197.242.182-13796-443-6</td>\n",
              "      <td>192.168.10.9</td>\n",
              "      <td>13796</td>\n",
              "      <td>52.197.242.182</td>\n",
              "      <td>443</td>\n",
              "      <td>6</td>\n",
              "      <td>2017-07-05 11:43:37.968708</td>\n",
              "      <td>188603</td>\n",
              "      <td>1</td>\n",
              "      <td>1</td>\n",
              "      <td>...</td>\n",
              "      <td>0</td>\n",
              "      <td>0.0</td>\n",
              "      <td>0.0</td>\n",
              "      <td>0</td>\n",
              "      <td>0</td>\n",
              "      <td>-1</td>\n",
              "      <td>-1</td>\n",
              "      <td>188603</td>\n",
              "      <td>BENIGN</td>\n",
              "      <td>-1</td>\n",
              "    </tr>\n",
              "    <tr>\n",
              "      <th>...</th>\n",
              "      <td>...</td>\n",
              "      <td>...</td>\n",
              "      <td>...</td>\n",
              "      <td>...</td>\n",
              "      <td>...</td>\n",
              "      <td>...</td>\n",
              "      <td>...</td>\n",
              "      <td>...</td>\n",
              "      <td>...</td>\n",
              "      <td>...</td>\n",
              "      <td>...</td>\n",
              "      <td>...</td>\n",
              "      <td>...</td>\n",
              "      <td>...</td>\n",
              "      <td>...</td>\n",
              "      <td>...</td>\n",
              "      <td>...</td>\n",
              "      <td>...</td>\n",
              "      <td>...</td>\n",
              "      <td>...</td>\n",
              "      <td>...</td>\n",
              "    </tr>\n",
              "    <tr>\n",
              "      <th>2099971</th>\n",
              "      <td>192.168.10.8-192.168.10.19-61232-21571-6</td>\n",
              "      <td>192.168.10.8</td>\n",
              "      <td>61232</td>\n",
              "      <td>192.168.10.19</td>\n",
              "      <td>21571</td>\n",
              "      <td>6</td>\n",
              "      <td>2017-07-06 18:21:53.829425</td>\n",
              "      <td>61</td>\n",
              "      <td>2</td>\n",
              "      <td>2</td>\n",
              "      <td>...</td>\n",
              "      <td>0</td>\n",
              "      <td>0.0</td>\n",
              "      <td>0.0</td>\n",
              "      <td>0</td>\n",
              "      <td>0</td>\n",
              "      <td>-1</td>\n",
              "      <td>-1</td>\n",
              "      <td>61</td>\n",
              "      <td>Infiltration - Portscan</td>\n",
              "      <td>-1</td>\n",
              "    </tr>\n",
              "    <tr>\n",
              "      <th>2099972</th>\n",
              "      <td>192.168.10.15-192.168.10.3-55355-53-17</td>\n",
              "      <td>192.168.10.15</td>\n",
              "      <td>55355</td>\n",
              "      <td>192.168.10.3</td>\n",
              "      <td>53</td>\n",
              "      <td>17</td>\n",
              "      <td>2017-07-06 17:05:17.960348</td>\n",
              "      <td>183</td>\n",
              "      <td>2</td>\n",
              "      <td>2</td>\n",
              "      <td>...</td>\n",
              "      <td>0</td>\n",
              "      <td>0.0</td>\n",
              "      <td>0.0</td>\n",
              "      <td>0</td>\n",
              "      <td>0</td>\n",
              "      <td>-1</td>\n",
              "      <td>-1</td>\n",
              "      <td>0</td>\n",
              "      <td>BENIGN</td>\n",
              "      <td>-1</td>\n",
              "    </tr>\n",
              "    <tr>\n",
              "      <th>2099973</th>\n",
              "      <td>192.168.10.14-192.168.10.3-63524-53-17</td>\n",
              "      <td>192.168.10.14</td>\n",
              "      <td>63524</td>\n",
              "      <td>192.168.10.3</td>\n",
              "      <td>53</td>\n",
              "      <td>17</td>\n",
              "      <td>2017-07-06 18:04:58.308001</td>\n",
              "      <td>1040</td>\n",
              "      <td>2</td>\n",
              "      <td>2</td>\n",
              "      <td>...</td>\n",
              "      <td>0</td>\n",
              "      <td>0.0</td>\n",
              "      <td>0.0</td>\n",
              "      <td>0</td>\n",
              "      <td>0</td>\n",
              "      <td>-1</td>\n",
              "      <td>-1</td>\n",
              "      <td>0</td>\n",
              "      <td>BENIGN</td>\n",
              "      <td>-1</td>\n",
              "    </tr>\n",
              "    <tr>\n",
              "      <th>2099974</th>\n",
              "      <td>192.168.10.15-192.168.10.50-55298-22-6</td>\n",
              "      <td>192.168.10.15</td>\n",
              "      <td>55298</td>\n",
              "      <td>192.168.10.50</td>\n",
              "      <td>22</td>\n",
              "      <td>6</td>\n",
              "      <td>2017-07-06 15:37:11.000885</td>\n",
              "      <td>1530528</td>\n",
              "      <td>42</td>\n",
              "      <td>46</td>\n",
              "      <td>...</td>\n",
              "      <td>0</td>\n",
              "      <td>0.0</td>\n",
              "      <td>0.0</td>\n",
              "      <td>0</td>\n",
              "      <td>0</td>\n",
              "      <td>-1</td>\n",
              "      <td>-1</td>\n",
              "      <td>1530528</td>\n",
              "      <td>BENIGN</td>\n",
              "      <td>-1</td>\n",
              "    </tr>\n",
              "    <tr>\n",
              "      <th>2099975</th>\n",
              "      <td>192.168.10.17-198.72.112.8-50058-443-6</td>\n",
              "      <td>192.168.10.17</td>\n",
              "      <td>50058</td>\n",
              "      <td>198.72.112.8</td>\n",
              "      <td>443</td>\n",
              "      <td>6</td>\n",
              "      <td>2017-07-06 16:59:13.368885</td>\n",
              "      <td>8117820</td>\n",
              "      <td>9</td>\n",
              "      <td>8</td>\n",
              "      <td>...</td>\n",
              "      <td>93733</td>\n",
              "      <td>8008039.0</td>\n",
              "      <td>0.0</td>\n",
              "      <td>8008039</td>\n",
              "      <td>8008039</td>\n",
              "      <td>-1</td>\n",
              "      <td>-1</td>\n",
              "      <td>8117820</td>\n",
              "      <td>BENIGN</td>\n",
              "      <td>-1</td>\n",
              "    </tr>\n",
              "  </tbody>\n",
              "</table>\n",
              "<p>2099976 rows × 90 columns</p>\n",
              "</div>"
            ],
            "text/plain": [
              "                                          Flow ID         Src IP  Src Port  \\\n",
              "0         192.168.10.9-52.197.242.182-13793-443-6   192.168.10.9     13793   \n",
              "1         192.168.10.9-52.197.242.182-13793-443-6   192.168.10.9     13793   \n",
              "2           192.168.10.9-54.65.28.113-13794-443-6   192.168.10.9     13794   \n",
              "3           192.168.10.9-54.65.28.113-13794-443-6   192.168.10.9     13794   \n",
              "4         192.168.10.9-52.197.242.182-13796-443-6   192.168.10.9     13796   \n",
              "...                                           ...            ...       ...   \n",
              "2099971  192.168.10.8-192.168.10.19-61232-21571-6   192.168.10.8     61232   \n",
              "2099972    192.168.10.15-192.168.10.3-55355-53-17  192.168.10.15     55355   \n",
              "2099973    192.168.10.14-192.168.10.3-63524-53-17  192.168.10.14     63524   \n",
              "2099974    192.168.10.15-192.168.10.50-55298-22-6  192.168.10.15     55298   \n",
              "2099975    192.168.10.17-198.72.112.8-50058-443-6  192.168.10.17     50058   \n",
              "\n",
              "                 Dst IP  Dst Port  Protocol                   Timestamp  \\\n",
              "0        52.197.242.182       443         6  2017-07-05 11:43:34.783702   \n",
              "1        52.197.242.182       443         6  2017-07-05 11:43:35.484765   \n",
              "2          54.65.28.113       443         6  2017-07-05 11:43:36.375217   \n",
              "3          54.65.28.113       443         6  2017-07-05 11:43:37.075970   \n",
              "4        52.197.242.182       443         6  2017-07-05 11:43:37.968708   \n",
              "...                 ...       ...       ...                         ...   \n",
              "2099971   192.168.10.19     21571         6  2017-07-06 18:21:53.829425   \n",
              "2099972    192.168.10.3        53        17  2017-07-06 17:05:17.960348   \n",
              "2099973    192.168.10.3        53        17  2017-07-06 18:04:58.308001   \n",
              "2099974   192.168.10.50        22         6  2017-07-06 15:37:11.000885   \n",
              "2099975    198.72.112.8       443         6  2017-07-06 16:59:13.368885   \n",
              "\n",
              "         Flow Duration  Total Fwd Packet  Total Bwd packets  ...  Active Min  \\\n",
              "0               187889                 1                  1  ...           0   \n",
              "1               187758                 1                  1  ...           0   \n",
              "2               189882                 1                  1  ...           0   \n",
              "3               190117                 1                  1  ...           0   \n",
              "4               188603                 1                  1  ...           0   \n",
              "...                ...               ...                ...  ...         ...   \n",
              "2099971             61                 2                  2  ...           0   \n",
              "2099972            183                 2                  2  ...           0   \n",
              "2099973           1040                 2                  2  ...           0   \n",
              "2099974        1530528                42                 46  ...           0   \n",
              "2099975        8117820                 9                  8  ...       93733   \n",
              "\n",
              "         Idle Mean  Idle Std  Idle Max  Idle Min  ICMP Code  ICMP Type  \\\n",
              "0              0.0       0.0         0         0         -1         -1   \n",
              "1              0.0       0.0         0         0         -1         -1   \n",
              "2              0.0       0.0         0         0         -1         -1   \n",
              "3              0.0       0.0         0         0         -1         -1   \n",
              "4              0.0       0.0         0         0         -1         -1   \n",
              "...            ...       ...       ...       ...        ...        ...   \n",
              "2099971        0.0       0.0         0         0         -1         -1   \n",
              "2099972        0.0       0.0         0         0         -1         -1   \n",
              "2099973        0.0       0.0         0         0         -1         -1   \n",
              "2099974        0.0       0.0         0         0         -1         -1   \n",
              "2099975  8008039.0       0.0   8008039   8008039         -1         -1   \n",
              "\n",
              "         Total TCP Flow Time                    Label  Attempted Category  \n",
              "0                     187889                   BENIGN                  -1  \n",
              "1                     187758                   BENIGN                  -1  \n",
              "2                     189882                   BENIGN                  -1  \n",
              "3                     190117                   BENIGN                  -1  \n",
              "4                     188603                   BENIGN                  -1  \n",
              "...                      ...                      ...                 ...  \n",
              "2099971                   61  Infiltration - Portscan                  -1  \n",
              "2099972                    0                   BENIGN                  -1  \n",
              "2099973                    0                   BENIGN                  -1  \n",
              "2099974              1530528                   BENIGN                  -1  \n",
              "2099975              8117820                   BENIGN                  -1  \n",
              "\n",
              "[2099976 rows x 90 columns]"
            ]
          },
          "execution_count": 46,
          "metadata": {},
          "output_type": "execute_result"
        }
      ],
      "source": [
        "df"
      ]
    },
    {
      "cell_type": "code",
      "execution_count": 47,
      "metadata": {
        "colab": {
          "base_uri": "https://localhost:8080/"
        },
        "id": "QMkibc_W4hpQ",
        "outputId": "6d1318ce-3cba-4423-f379-68472881f90d"
      },
      "outputs": [
        {
          "data": {
            "text/plain": [
              "(2099976, 90)"
            ]
          },
          "execution_count": 47,
          "metadata": {},
          "output_type": "execute_result"
        }
      ],
      "source": [
        "df.shape"
      ]
    },
    {
      "attachments": {},
      "cell_type": "markdown",
      "metadata": {
        "id": "HX-OJjpP_74V"
      },
      "source": [
        "As for the differences between the features, aside for a couple of names that changed slightly, the corrected datasets adds 5 features: 'Fwd RST Flags', 'Bwd RST Flags', 'ICMP Code', 'ICMP Type', 'Total TCP Flow Time'. It also removed the duplicated feature 'Fwd Header Length.1'.\n",
        "Other than that, there's a column 'Attempted'. This should not be treated as a feature by the machine learning model. As suggested by the paper authors, we treat all those samples ad benign."
      ]
    },
    {
      "cell_type": "code",
      "execution_count": 48,
      "metadata": {
        "id": "84u_ejOLDs23"
      },
      "outputs": [],
      "source": [
        "def clean_attempted(row):\n",
        "  if row['Attempted Category'] != -1:\n",
        "    row['Label'] = 'BENIGN'\n",
        "  return row\n",
        "\n",
        "df = df.apply(clean_attempted, axis=1)\n",
        "df = df.drop(columns='Attempted Category')"
      ]
    },
    {
      "attachments": {},
      "cell_type": "markdown",
      "metadata": {
        "id": "BIQQvtxZhiTZ"
      },
      "source": [
        "When assessing the distribution of labels, it turns out that out of 2099976 records there are many benign records - 1594545 to be exact."
      ]
    },
    {
      "cell_type": "code",
      "execution_count": 49,
      "metadata": {
        "colab": {
          "base_uri": "https://localhost:8080/"
        },
        "id": "HrGLjk5nhrGE",
        "outputId": "5f46bcbf-018d-48cd-a3ad-6322d30f3f29"
      },
      "outputs": [
        {
          "data": {
            "text/plain": [
              "array(['BENIGN', 'DoS Slowloris', 'DoS Slowhttptest', 'DoS Hulk',\n",
              "       'DoS GoldenEye', 'Heartbleed', 'Botnet', 'Portscan', 'DDoS',\n",
              "       'FTP-Patator', 'SSH-Patator', 'Web Attack - Brute Force',\n",
              "       'Infiltration', 'Infiltration - Portscan', 'Web Attack - XSS',\n",
              "       'Web Attack - SQL Injection'], dtype=object)"
            ]
          },
          "execution_count": 49,
          "metadata": {},
          "output_type": "execute_result"
        }
      ],
      "source": [
        "df['Label'].unique()"
      ]
    },
    {
      "cell_type": "code",
      "execution_count": 50,
      "metadata": {
        "colab": {
          "base_uri": "https://localhost:8080/"
        },
        "id": "HnpQqQ8fhxwN",
        "outputId": "9a6df781-a74a-43db-f01f-742449e2960d"
      },
      "outputs": [
        {
          "data": {
            "text/plain": [
              "Label\n",
              "BENIGN                        1594545\n",
              "Portscan                       159066\n",
              "DoS Hulk                       158468\n",
              "DDoS                            95144\n",
              "Infiltration - Portscan         71767\n",
              "DoS GoldenEye                    7567\n",
              "FTP-Patator                      3972\n",
              "DoS Slowloris                    3859\n",
              "SSH-Patator                      2961\n",
              "DoS Slowhttptest                 1740\n",
              "Botnet                            736\n",
              "Web Attack - Brute Force           73\n",
              "Infiltration                       36\n",
              "Web Attack - XSS                   18\n",
              "Web Attack - SQL Injection         13\n",
              "Heartbleed                         11\n",
              "Name: count, dtype: int64"
            ]
          },
          "execution_count": 50,
          "metadata": {},
          "output_type": "execute_result"
        }
      ],
      "source": [
        "df['Label'].value_counts()"
      ]
    },
    {
      "attachments": {},
      "cell_type": "markdown",
      "metadata": {
        "id": "l7lpytF7h6D4"
      },
      "source": [
        "Delete blank records. This shouldn't make a difference since the new dataset already has no blank records."
      ]
    },
    {
      "cell_type": "code",
      "execution_count": 51,
      "metadata": {
        "colab": {
          "base_uri": "https://localhost:8080/"
        },
        "id": "7ltfHW8dh7Tw",
        "outputId": "d75eac09-826b-48f0-91aa-870a52052e1e"
      },
      "outputs": [
        {
          "data": {
            "text/plain": [
              "(2099976, 89)"
            ]
          },
          "execution_count": 51,
          "metadata": {},
          "output_type": "execute_result"
        }
      ],
      "source": [
        "df = df.drop(df[pd.isnull(df['Flow ID'])].index)\n",
        "df.shape"
      ]
    },
    {
      "attachments": {},
      "cell_type": "markdown",
      "metadata": {
        "id": "ZN6DKttXiH7J"
      },
      "source": [
        "The \"Flow Bytes/s\" and \"Flow Packets/s\" columns have non-numerical values, replace them."
      ]
    },
    {
      "cell_type": "code",
      "execution_count": 52,
      "metadata": {
        "id": "mZ2ffToLi02x"
      },
      "outputs": [],
      "source": [
        "df.replace('Infinity', -1, inplace=True)\n",
        "df[[\"Flow Bytes/s\", \"Flow Packets/s\"]] = df[[\"Flow Bytes/s\", \"Flow Packets/s\"]].apply(pd.to_numeric)"
      ]
    },
    {
      "attachments": {},
      "cell_type": "markdown",
      "metadata": {
        "id": "OAVqCLK8qe1P"
      },
      "source": [
        "Replace the NaN values and infinity values with -1."
      ]
    },
    {
      "cell_type": "code",
      "execution_count": 53,
      "metadata": {
        "id": "FgZGWpa0qe1P"
      },
      "outputs": [],
      "source": [
        "df.replace([np.inf, -np.inf, np.nan], -1, inplace=True)"
      ]
    },
    {
      "attachments": {},
      "cell_type": "markdown",
      "metadata": {
        "id": "2JMv7gKfi4nI"
      },
      "source": [
        "Convert string characters to numbers, use LabelEncoder, not OneHotEncoder."
      ]
    },
    {
      "cell_type": "code",
      "execution_count": 54,
      "metadata": {
        "colab": {
          "base_uri": "https://localhost:8080/"
        },
        "id": "XmYOMG0Ti8Wh",
        "outputId": "b6ed6681-99c3-4d69-83fa-2e7933e9d007"
      },
      "outputs": [
        {
          "data": {
            "text/plain": [
              "['Flow ID', 'Src IP', 'Dst IP', 'Timestamp']"
            ]
          },
          "execution_count": 54,
          "metadata": {},
          "output_type": "execute_result"
        }
      ],
      "source": [
        "string_features = list(df.select_dtypes(include=['object']).columns)\n",
        "string_features.remove('Label')\n",
        "string_features"
      ]
    },
    {
      "cell_type": "code",
      "execution_count": 55,
      "metadata": {
        "id": "ySZ2eW_2jCfQ"
      },
      "outputs": [],
      "source": [
        "le = preprocessing.LabelEncoder()\n",
        "df[string_features] = df[string_features].apply(lambda col: le.fit_transform(col))"
      ]
    },
    {
      "cell_type": "code",
      "execution_count": 56,
      "metadata": {},
      "outputs": [],
      "source": [
        "df.to_csv(\"web_attacks_unbalanced.csv\", index=False)"
      ]
    },
    {
      "attachments": {},
      "cell_type": "markdown",
      "metadata": {
        "id": "K94al8HAjJEN"
      },
      "source": [
        "### Undersampling against unbalance\n",
        "\n",
        "Dataset is unbalanced: total records = 2099976, \"BENIGN\" records = 1594545, records with attacks much less: 11 + 13 + 18 + 36 + 73 + 736 + 1740 + 2961 + 3859 + 3972 + 7567 + 71767 + 95144 + 158468 + 159066 = 505431."
      ]
    },
    {
      "cell_type": "code",
      "execution_count": 57,
      "metadata": {},
      "outputs": [],
      "source": [
        "df = pd.read_csv('web_attacks_unbalanced.csv')"
      ]
    },
    {
      "cell_type": "code",
      "execution_count": 58,
      "metadata": {
        "colab": {
          "base_uri": "https://localhost:8080/"
        },
        "id": "7K7iWbNMjWrZ",
        "outputId": "c6792868-a8d0-49a9-a7b2-06bb5994be36"
      },
      "outputs": [
        {
          "data": {
            "text/plain": [
              "1594545"
            ]
          },
          "execution_count": 58,
          "metadata": {},
          "output_type": "execute_result"
        }
      ],
      "source": [
        "benign_total = len(df[df['Label'] == \"BENIGN\"])\n",
        "benign_total"
      ]
    },
    {
      "cell_type": "code",
      "execution_count": 59,
      "metadata": {
        "colab": {
          "base_uri": "https://localhost:8080/"
        },
        "id": "nVs_xEHFjY5q",
        "outputId": "c25f60fc-8185-488a-8b10-a5a123bc4510"
      },
      "outputs": [
        {
          "data": {
            "text/plain": [
              "505431"
            ]
          },
          "execution_count": 59,
          "metadata": {},
          "output_type": "execute_result"
        }
      ],
      "source": [
        "attack_total = len(df[df['Label'] != \"BENIGN\"])\n",
        "attack_total"
      ]
    },
    {
      "cell_type": "code",
      "execution_count": 60,
      "metadata": {
        "colab": {
          "base_uri": "https://localhost:8080/"
        },
        "id": "PFvPOea2jhMt",
        "outputId": "81348180-5080-4ea3-8aed-395fa1445c78"
      },
      "outputs": [
        {
          "data": {
            "text/plain": [
              "Label\n",
              "BENIGN                        1594545\n",
              "Portscan                       159066\n",
              "DoS Hulk                       158468\n",
              "DDoS                            95144\n",
              "Infiltration - Portscan         71767\n",
              "DoS GoldenEye                    7567\n",
              "FTP-Patator                      3972\n",
              "DoS Slowloris                    3859\n",
              "SSH-Patator                      2961\n",
              "DoS Slowhttptest                 1740\n",
              "Botnet                            736\n",
              "Web Attack - Brute Force           73\n",
              "Infiltration                       36\n",
              "Web Attack - XSS                   18\n",
              "Web Attack - SQL Injection         13\n",
              "Heartbleed                         11\n",
              "Name: count, dtype: int64"
            ]
          },
          "execution_count": 60,
          "metadata": {},
          "output_type": "execute_result"
        }
      ],
      "source": [
        "df['Label'].value_counts()"
      ]
    },
    {
      "attachments": {},
      "cell_type": "markdown",
      "metadata": {
        "id": "6A9-rS7OjyFl"
      },
      "source": [
        "We use **undersampling** to correct class imbalances: we remove most of the \"BENIGN\" records.\n",
        "\n",
        "Form a balanced dataset web_attacks_balanced.csv in proportion: 70% benign data, 30% attacks (2099976 total: x attacks, 1179339 benign).\n",
        "\n",
        "Algorithm to form a balanced df_balanced dataset:\n",
        "\n",
        "* All the records with the attacks are copied to the new dataset.\n",
        "* There are two conditions for copying \"BENIGN\" records to the new dataset:\n",
        "\n",
        "     1. The next record is copyied with the benign_inc_probability.\n",
        "     2. The total number of \"BENIGN\" records must not exceed the limit of 5087 records."
      ]
    },
    {
      "attachments": {},
      "cell_type": "markdown",
      "metadata": {
        "id": "aVZutNOZj_N9"
      },
      "source": [
        "Сalculate the probability of copying a \"BENIGN\" record."
      ]
    },
    {
      "cell_type": "code",
      "execution_count": 61,
      "metadata": {
        "colab": {
          "base_uri": "https://localhost:8080/"
        },
        "id": "XaW7sEjHkB3K",
        "outputId": "6b97aa54-d221-4262-9613-b1d45edb9e88"
      },
      "outputs": [
        {
          "name": "stdout",
          "output_type": "stream",
          "text": [
            "1179339 0.7396084776534999\n"
          ]
        }
      ],
      "source": [
        "total_samples = len(df[df['Label'] != 'BENIGN']) // 0.3\n",
        "benign_included_max = round(total_samples * 0.7)\n",
        "benign_inc_probability = benign_included_max / benign_total\n",
        "print(benign_included_max, benign_inc_probability)"
      ]
    },
    {
      "attachments": {},
      "cell_type": "markdown",
      "metadata": {
        "id": "G3ZXh6fTkFK_"
      },
      "source": [
        "Copy records from df to df_balanced, save dataset **web_attacks_balanced.csv**."
      ]
    },
    {
      "cell_type": "code",
      "execution_count": 62,
      "metadata": {
        "id": "0MdiMPmdkICk"
      },
      "outputs": [],
      "source": [
        "import random\n",
        "indexes = []\n",
        "benign_included_count = 0\n",
        "portscan_included_count = 0\n",
        "for index, row in df.iterrows():\n",
        "    if (row['Label'] == \"BENIGN\"):\n",
        "      # Have we achieved 70%?\n",
        "      #if benign_included_count > benign_included_max: continue\n",
        "      # Copying with benign_inc_probability\n",
        "      if random.random() > benign_inc_probability: continue\n",
        "      benign_included_count += 1\n",
        "\n",
        "    indexes.append(index)\n",
        "\n",
        "df_balanced = df.loc[indexes]"
      ]
    },
    {
      "cell_type": "code",
      "execution_count": 63,
      "metadata": {
        "colab": {
          "base_uri": "https://localhost:8080/"
        },
        "id": "cqypBDIdkKN4",
        "outputId": "afb8fb0b-f26f-418e-b061-e1317cae4dcb"
      },
      "outputs": [
        {
          "data": {
            "text/plain": [
              "Label\n",
              "BENIGN                        1178789\n",
              "Portscan                       159066\n",
              "DoS Hulk                       158468\n",
              "DDoS                            95144\n",
              "Infiltration - Portscan         71767\n",
              "DoS GoldenEye                    7567\n",
              "FTP-Patator                      3972\n",
              "DoS Slowloris                    3859\n",
              "SSH-Patator                      2961\n",
              "DoS Slowhttptest                 1740\n",
              "Botnet                            736\n",
              "Web Attack - Brute Force           73\n",
              "Infiltration                       36\n",
              "Web Attack - XSS                   18\n",
              "Web Attack - SQL Injection         13\n",
              "Heartbleed                         11\n",
              "Name: count, dtype: int64"
            ]
          },
          "execution_count": 63,
          "metadata": {},
          "output_type": "execute_result"
        }
      ],
      "source": [
        "df_balanced['Label'].value_counts()"
      ]
    },
    {
      "cell_type": "code",
      "execution_count": 64,
      "metadata": {},
      "outputs": [
        {
          "data": {
            "text/plain": [
              "0.6999020318010711"
            ]
          },
          "execution_count": 64,
          "metadata": {},
          "output_type": "execute_result"
        }
      ],
      "source": [
        "len(df_balanced[df_balanced['Label'] == 'BENIGN'])/len(df_balanced)"
      ]
    },
    {
      "cell_type": "code",
      "execution_count": 65,
      "metadata": {
        "id": "qiYFzlGkkSXe"
      },
      "outputs": [],
      "source": [
        "df_balanced.to_csv(\"web_attacks_balanced.csv\", index=False)"
      ]
    },
    {
      "attachments": {},
      "cell_type": "markdown",
      "metadata": {
        "id": "-IEyQxBDt5sG"
      },
      "source": [
        "### Preparing data for training"
      ]
    },
    {
      "cell_type": "code",
      "execution_count": 66,
      "metadata": {
        "id": "vbLOn76hqe1S"
      },
      "outputs": [],
      "source": [
        "df = pd.read_csv('web_attacks_balanced.csv')"
      ]
    },
    {
      "attachments": {},
      "cell_type": "markdown",
      "metadata": {
        "id": "_G2VS_p_qe1Y"
      },
      "source": [
        "The Label column is encoded as follows: \"BENIGN\" = 0, attack = 1."
      ]
    },
    {
      "cell_type": "code",
      "execution_count": 67,
      "metadata": {
        "id": "rRoX90Thqe1Y"
      },
      "outputs": [],
      "source": [
        "df['Label'] = df['Label'].apply(lambda x: 0 if x == 'BENIGN' else 1)"
      ]
    },
    {
      "attachments": {},
      "cell_type": "markdown",
      "metadata": {
        "id": "1k2G5UAEt9cw"
      },
      "source": [
        "7 features (Flow ID, Source IP, Source Port, Destination IP, Destination Port, Protocol, Timestamp) are excluded from the dataset. The hypothesis is that the \"shape\" of the data being transmitted is more important than these attributes. In addition, ports and addresses can be substituted by an attacker, so it is better that the ML algorithm does not take these features into account in training [Kostas2018]."
      ]
    },
    {
      "cell_type": "code",
      "execution_count": 68,
      "metadata": {
        "colab": {
          "base_uri": "https://localhost:8080/",
          "height": 338
        },
        "id": "8yza95R2t_1N",
        "outputId": "4cf1c1b2-65aa-4503-9411-f8c947f740fa"
      },
      "outputs": [],
      "source": [
        "excluded = ['Flow ID', 'Src IP', 'Src Port', 'Dst IP', 'Dst Port', 'Protocol', 'Timestamp']\n",
        "df = df.drop(columns=excluded)"
      ]
    },
    {
      "cell_type": "code",
      "execution_count": 69,
      "metadata": {
        "colab": {
          "base_uri": "https://localhost:8080/"
        },
        "id": "a-FDOBmOufo6",
        "outputId": "ac46d0ac-2478-4d2c-af4b-a795b5ae0146"
      },
      "outputs": [
        {
          "name": "stdout",
          "output_type": "stream",
          "text": [
            "(1684220, 81) (1684220,)\n"
          ]
        }
      ],
      "source": [
        "y = df['Label'].values\n",
        "X = df.drop(columns=['Label'])\n",
        "print(X.shape, y.shape)"
      ]
    },
    {
      "attachments": {},
      "cell_type": "markdown",
      "metadata": {
        "id": "3P69z9kfupES"
      },
      "source": [
        "## Feature importance"
      ]
    },
    {
      "cell_type": "code",
      "execution_count": 70,
      "metadata": {
        "colab": {
          "base_uri": "https://localhost:8080/"
        },
        "id": "4BbvfnjTuzeX",
        "outputId": "d423facc-8398-411a-add9-387678a88027"
      },
      "outputs": [],
      "source": [
        "from sklearn.model_selection import train_test_split\n",
        "X_train, X_test, y_train, y_test = train_test_split(X, y, test_size=0.2, random_state=241)\n",
        "\n",
        "X_select, X_val, y_select, y_val = train_test_split(X_train, y_train, test_size=0.2, random_state=241)"
      ]
    },
    {
      "attachments": {},
      "cell_type": "markdown",
      "metadata": {
        "id": "duGKUsAzal52"
      },
      "source": [
        "### Evaluation of importance using RandomForestClassifier.feature_importances_ (move from one tree to a random forest, classification quality increases)"
      ]
    },
    {
      "cell_type": "code",
      "execution_count": 71,
      "metadata": {
        "colab": {
          "base_uri": "https://localhost:8080/"
        },
        "id": "xo4E_wFeaqNd",
        "outputId": "8816170d-c713-4845-a2d2-a2b4a3a6e4b9"
      },
      "outputs": [],
      "source": [
        "from sklearn.ensemble import RandomForestClassifier\n",
        "\n",
        "rf = RandomForestClassifier(n_estimators=150, random_state=42, oob_score=True)\n",
        "rf.fit(X_select, y_select)\n",
        "# Score = mean accuracy on the given test data and labels\n",
        "print('R^2 Training Score: {:.2f} \\nR^2 Validation Score: {:.2f} \\nOut-of-bag Score: {:.2f}'\n",
        "      .format(rf.score(X_select, y_select), rf.score(X_val, y_val), rf.oob_score_))"
      ]
    },
    {
      "attachments": {},
      "cell_type": "markdown",
      "metadata": {
        "id": "htO0aM5AXCoN"
      },
      "source": [
        "We select all the features with importance at least 1%"
      ]
    },
    {
      "cell_type": "code",
      "execution_count": null,
      "metadata": {
        "colab": {
          "base_uri": "https://localhost:8080/"
        },
        "id": "byV6krktawE_",
        "outputId": "e439cb68-e7b3-46d3-cfbd-e6c85d047cd5"
      },
      "outputs": [],
      "source": [
        "features = X.columns\n",
        "importances = rf.feature_importances_\n",
        "indices = np.argsort(importances)[::-1]\n",
        "webattack_features = []\n",
        "\n",
        "for index, i in enumerate(indices):\n",
        "    if importances[i] >= 0.01:\n",
        "      webattack_features.append(features[i])\n",
        "    print(f'{index+1}. \\t #{i} \\t {importances[i]:.3f} \\t {features[i]}')"
      ]
    },
    {
      "attachments": {},
      "cell_type": "markdown",
      "metadata": {
        "id": "eF02L27nV5Ye"
      },
      "source": [
        "Visualize what we're left with"
      ]
    },
    {
      "cell_type": "code",
      "execution_count": null,
      "metadata": {
        "colab": {
          "base_uri": "https://localhost:8080/",
          "height": 564
        },
        "id": "TPxzWeP4bHa5",
        "outputId": "1d601152-15fa-4796-c99e-90fd568283db"
      },
      "outputs": [],
      "source": [
        "indices = np.argsort(importances)[-len(webattack_features):]\n",
        "plt.rcParams['figure.figsize'] = (10, 6)\n",
        "plt.title('Feature Importances')\n",
        "plt.barh(range(len(indices)), importances[indices], color='#cccccc', align='center')\n",
        "plt.yticks(range(len(indices)), [features[i] for i in indices])\n",
        "plt.xlabel('Relative Importance')\n",
        "plt.grid()\n",
        "plt.show()"
      ]
    },
    {
      "cell_type": "code",
      "execution_count": null,
      "metadata": {
        "colab": {
          "base_uri": "https://localhost:8080/"
        },
        "id": "QaYCrMC4cenU",
        "outputId": "0836bdeb-829b-40da-9390-5ba1b11d4977"
      },
      "outputs": [],
      "source": [
        "from sklearn.metrics import confusion_matrix\n",
        "\n",
        "y_pred = rf.predict(X_val)\n",
        "confusion_matrix(y_val, y_pred)"
      ]
    },
    {
      "attachments": {},
      "cell_type": "markdown",
      "metadata": {
        "id": "eLikdx9Legm0"
      },
      "source": [
        "## Analysis of selected features"
      ]
    },
    {
      "cell_type": "code",
      "execution_count": null,
      "metadata": {
        "colab": {
          "base_uri": "https://localhost:8080/",
          "height": 852
        },
        "id": "l4AlTAUme5aJ",
        "outputId": "94c900e3-2c72-4588-a2ac-607be0075992"
      },
      "outputs": [],
      "source": [
        "\n",
        "frame_attacks = df[df['Label'] == 1]\n",
        "frame_benigns = df[df['Label'] == 0]\n",
        "plt.figure(figsize=(20,25))\n",
        "for i, feat in enumerate(webattack_features):\n",
        "    plt.subplot(len(webattack_features)//3+1, 3, i+1)\n",
        "    x1 = sorted(frame_benigns[feat])\n",
        "    x2 = sorted(frame_attacks[feat])\n",
        "    fr = [x1, x2]\n",
        "    plt.hist(fr, bins=50, stacked=True, density=True)\n",
        "    plt.title(feat)\n",
        "    plt.legend(['benign', 'attacks'])\n",
        "plt.show()"
      ]
    },
    {
      "cell_type": "code",
      "execution_count": null,
      "metadata": {
        "colab": {
          "base_uri": "https://localhost:8080/",
          "height": 542
        },
        "id": "IIqD-DjrgbIr",
        "outputId": "f3cb3e17-05be-4d12-ae1a-caf7d7238af5"
      },
      "outputs": [],
      "source": [
        "import seaborn as sns\n",
        "corr_matrix = df[webattack_features].corr()\n",
        "plt.rcParams['figure.figsize'] = (16, 6)\n",
        "g = sns.heatmap(corr_matrix, annot=True, fmt='.1g', cmap='Greys')\n",
        "g.set_xticklabels(g.get_xticklabels(), verticalalignment='top', horizontalalignment='right', rotation=30);\n",
        "plt.show()"
      ]
    },
    {
      "attachments": {},
      "cell_type": "markdown",
      "metadata": {
        "id": "r2J6Pz0xglza"
      },
      "source": [
        "Remove correlated features."
      ]
    },
    {
      "cell_type": "code",
      "execution_count": null,
      "metadata": {
        "id": "Nml7xnnqgoMz"
      },
      "outputs": [],
      "source": [
        "to_be_removed = {'Packet Length Std', 'Bwd Packet Length Std', 'Bwd Segment Size Avg', 'Bwd Packet Length Max', 'Bwd Packet Length Mean', 'Packet Length Max', 'Packet length Max', 'Packet Length Mean', 'Average Packet Size', 'Subflow Bwd Bytes', 'Fwd RST Flags'}\n",
        "webattack_features = [item for item in webattack_features if item not in to_be_removed]"
      ]
    },
    {
      "cell_type": "code",
      "execution_count": null,
      "metadata": {
        "colab": {
          "base_uri": "https://localhost:8080/",
          "height": 624
        },
        "id": "vHbm-bkbgDw8",
        "outputId": "499b6ed4-8255-4e65-ed91-a23eb2d839eb"
      },
      "outputs": [],
      "source": [
        "corr_matrix = df[webattack_features].corr()\n",
        "plt.rcParams['figure.figsize'] = (12, 5)\n",
        "sns.heatmap(corr_matrix, annot=True, fmt='.1g', cmap='Greys');"
      ]
    },
    {
      "attachments": {},
      "cell_type": "markdown",
      "metadata": {
        "id": "eh-k8KdMhJ_Q"
      },
      "source": [
        "## Hyperparameter selection"
      ]
    },
    {
      "attachments": {},
      "cell_type": "markdown",
      "metadata": {
        "id": "PFYYEqnihZnZ"
      },
      "source": [
        "We get the list of RandomForestClassifier parameters."
      ]
    },
    {
      "cell_type": "code",
      "execution_count": null,
      "metadata": {
        "id": "wc_IVcRPhU82"
      },
      "outputs": [],
      "source": [
        "rfc = RandomForestClassifier(criterion='gini', random_state=6)"
      ]
    },
    {
      "attachments": {},
      "cell_type": "markdown",
      "metadata": {
        "id": "hZtnTrlNk_Uf"
      },
      "source": [
        "### Grid search"
      ]
    },
    {
      "cell_type": "code",
      "execution_count": null,
      "metadata": {
        "id": "eaeAf6VRhwJq"
      },
      "outputs": [],
      "source": [
        "parameters = {'n_estimators': [20, 25, 30, 35, 50, 80],\n",
        "              'min_samples_leaf': [4, 3, 2],\n",
        "              'max_features': ['sqrt', 'log2', 5, 8, 14, None],\n",
        "              'max_depth': [3, 5, 8, 12, None]}"
      ]
    },
    {
      "cell_type": "code",
      "execution_count": null,
      "metadata": {
        "colab": {
          "base_uri": "https://localhost:8080/",
          "height": 152
        },
        "id": "O3ziP5BolEss",
        "outputId": "fb519c70-52f8-4191-8797-87b0079367b3"
      },
      "outputs": [],
      "source": [
        "from sklearn.model_selection import GridSearchCV\n",
        "\n",
        "gcv = GridSearchCV(rfc, parameters, scoring='f1', refit='f1', cv=3, return_train_score=True, verbose=10)\n",
        "gcv.fit(X_train, y_train)"
      ]
    },
    {
      "attachments": {},
      "cell_type": "markdown",
      "metadata": {
        "id": "vwi5Ds61mirz"
      },
      "source": [
        "Let's take a look at the results of the parameter selection."
      ]
    },
    {
      "cell_type": "code",
      "execution_count": null,
      "metadata": {
        "colab": {
          "base_uri": "https://localhost:8080/"
        },
        "id": "PxeUXPHHmk3C",
        "outputId": "c42f5586-7592-4c61-922a-a2a9ec617199"
      },
      "outputs": [],
      "source": [
        "gcv.best_params_"
      ]
    },
    {
      "cell_type": "code",
      "execution_count": null,
      "metadata": {
        "colab": {
          "base_uri": "https://localhost:8080/"
        },
        "id": "4VFX3ERUmlvk",
        "outputId": "35426ddd-bef4-4b04-bdbc-fcda8f90facd"
      },
      "outputs": [],
      "source": [
        "gcv.best_score_"
      ]
    },
    {
      "attachments": {},
      "cell_type": "markdown",
      "metadata": {
        "id": "Iiskwr3VmoL5"
      },
      "source": [
        "## Final model"
      ]
    },
    {
      "cell_type": "code",
      "execution_count": null,
      "metadata": {
        "colab": {
          "base_uri": "https://localhost:8080/"
        },
        "id": "hVJU_2TPqe1m",
        "outputId": "f1aa59b4-2a17-4766-84be-c007e6a385fd"
      },
      "outputs": [],
      "source": [
        "X_train, X_test, y_train, y_test = train_test_split(X, y, test_size=0.3, random_state=42)\n",
        "print(X_train.shape, y_train.shape)\n",
        "print(X_test.shape, y_test.shape)"
      ]
    },
    {
      "cell_type": "code",
      "execution_count": null,
      "metadata": {
        "colab": {
          "base_uri": "https://localhost:8080/",
          "height": 146
        },
        "id": "7F8aWhX3mm8B",
        "outputId": "064c9255-d1d6-4221-ed4f-b0680142c7a6"
      },
      "outputs": [],
      "source": [
        "rfc = RandomForestClassifier(max_depth=20, max_features=3, min_samples_leaf=2, n_estimators=25, random_state=42, oob_score=True)\n",
        "# rfc = RandomForestClassifier(n_estimators=250, random_state=1)\n",
        "rfc.fit(X_train, y_train)"
      ]
    },
    {
      "cell_type": "code",
      "execution_count": null,
      "metadata": {
        "colab": {
          "base_uri": "https://localhost:8080/"
        },
        "id": "yULIEGsxmtsQ",
        "outputId": "8de74beb-556a-4630-b207-413df18f09f8"
      },
      "outputs": [],
      "source": [
        "features = X.columns\n",
        "importances = rfc.feature_importances_\n",
        "indices = np.argsort(importances)[::-1]\n",
        "\n",
        "for index, i in enumerate(indices[:10]):\n",
        "    print('{}.\\t#{}\\t{:.3f}\\t{}'.format(index + 1, i, importances[i], features[i]))"
      ]
    },
    {
      "cell_type": "code",
      "execution_count": null,
      "metadata": {
        "colab": {
          "base_uri": "https://localhost:8080/"
        },
        "id": "rS1JcSYdqe1m",
        "outputId": "0e1b3bf4-2cb2-471e-e2fd-3fce6c43cc7c"
      },
      "outputs": [],
      "source": [
        "y_pred = rfc.predict(X_test)\n",
        "confusion_matrix(y_test, y_pred)"
      ]
    },
    {
      "cell_type": "code",
      "execution_count": null,
      "metadata": {
        "colab": {
          "base_uri": "https://localhost:8080/"
        },
        "id": "WWgbCOjZoIYX",
        "outputId": "ecd7d03f-a8f2-4fdb-adca-7d369d5942e9"
      },
      "outputs": [],
      "source": [
        "import sklearn.metrics as metrics\n",
        "accuracy = metrics.accuracy_score(y_test, y_pred)\n",
        "precision = metrics.precision_score(y_test, y_pred)\n",
        "recall = metrics.recall_score(y_test, y_pred)\n",
        "f1 = metrics.f1_score(y_test, y_pred)\n",
        "print('Accuracy =', accuracy)\n",
        "print('Precision =', precision)\n",
        "print('Recall =', recall)\n",
        "print('F1 =', f1)"
      ]
    },
    {
      "attachments": {},
      "cell_type": "markdown",
      "metadata": {
        "id": "5PElFLh5oYzU"
      },
      "source": [
        "## Model saving"
      ]
    },
    {
      "cell_type": "code",
      "execution_count": null,
      "metadata": {
        "id": "QjZyFNFIoMFK"
      },
      "outputs": [],
      "source": [
        "import pickle\n",
        "with open('webattack_detection_rf_model.pkl', 'wb') as f:\n",
        "    pickle.dump(rfc, f)"
      ]
    },
    {
      "attachments": {},
      "cell_type": "markdown",
      "metadata": {
        "id": "pnHSPBrDodIs"
      },
      "source": [
        "## Model approbation"
      ]
    },
    {
      "attachments": {},
      "cell_type": "markdown",
      "metadata": {
        "id": "98uX2hrvofRR"
      },
      "source": [
        "Open the previously saved model."
      ]
    },
    {
      "cell_type": "code",
      "execution_count": null,
      "metadata": {
        "colab": {
          "base_uri": "https://localhost:8080/",
          "height": 91
        },
        "id": "hxBtpLABob_z",
        "outputId": "8553e78f-fad6-40df-a7fb-f36a9bf5b1b5"
      },
      "outputs": [],
      "source": [
        "with open('webattack_detection_rf_model.pkl', 'rb') as f:\n",
        "    rfc = pickle.load(f)\n",
        "rfc"
      ]
    },
    {
      "attachments": {},
      "cell_type": "markdown",
      "metadata": {
        "id": "znNcDQd-oh5G"
      },
      "source": [
        "Reopen the dataset."
      ]
    },
    {
      "cell_type": "code",
      "execution_count": null,
      "metadata": {
        "colab": {
          "base_uri": "https://localhost:8080/"
        },
        "id": "z_vhT5fcoguX",
        "outputId": "b6e2dcbb-2e4d-4e17-d6e6-f6221657f04a"
      },
      "outputs": [],
      "source": [
        "df = pd.read_csv('web_attacks_balanced.csv')\n",
        "df['Label'] = df['Label'].apply(lambda x: 0 if x == 'BENIGN' else 1)\n",
        "y_test = df['Label'].values\n",
        "X_test = df[webattack_features]\n",
        "print(X_test.shape, y_test.shape)"
      ]
    },
    {
      "cell_type": "code",
      "execution_count": null,
      "metadata": {
        "colab": {
          "base_uri": "https://localhost:8080/",
          "height": 267
        },
        "id": "wmcv42wHoltz",
        "outputId": "4be63abc-06f4-41ab-e687-c23922758280"
      },
      "outputs": [],
      "source": [
        "X_test.head()"
      ]
    },
    {
      "cell_type": "code",
      "execution_count": null,
      "metadata": {
        "colab": {
          "base_uri": "https://localhost:8080/"
        },
        "id": "-lSUUhseopZz",
        "outputId": "76345058-9cc1-41ea-a4c1-c2dd3970fe1c"
      },
      "outputs": [],
      "source": [
        "import time\n",
        "seconds = time.time()\n",
        "y_pred = rfc.predict(X_test)\n",
        "print(\"Total operation time:\", time.time() - seconds, \"seconds\")\n",
        "\n",
        "print(\"Benign records detected (0), attacks detected (1):\")\n",
        "unique, counts = np.unique(y_pred, return_counts=True)\n",
        "dict(zip(unique, counts))"
      ]
    },
    {
      "attachments": {},
      "cell_type": "markdown",
      "metadata": {
        "id": "J2czidjro0at"
      },
      "source": [
        "Confusion matrix:\n",
        "\n",
        "      0  1 - predicted value (Wikipedia uses different convention for axes)\n",
        "    0 TN FP\n",
        "    1 FN TP"
      ]
    },
    {
      "cell_type": "code",
      "execution_count": null,
      "metadata": {
        "colab": {
          "base_uri": "https://localhost:8080/"
        },
        "id": "-g03Us5potkl",
        "outputId": "e6933c95-5b95-4562-981b-0c17b2573c83"
      },
      "outputs": [],
      "source": [
        "confusion_matrix(y_test, y_pred)"
      ]
    },
    {
      "cell_type": "code",
      "execution_count": null,
      "metadata": {
        "colab": {
          "base_uri": "https://localhost:8080/"
        },
        "id": "qBDPbUU_o6Pi",
        "outputId": "063690e4-2f74-48a7-84d6-269abc7073d9"
      },
      "outputs": [],
      "source": [
        "accuracy = metrics.accuracy_score(y_test, y_pred)\n",
        "precision = metrics.precision_score(y_test, y_pred)\n",
        "recall = metrics.recall_score(y_test, y_pred)\n",
        "f1 = metrics.f1_score(y_test, y_pred)\n",
        "print('Accuracy =', accuracy)\n",
        "print('Precision =', precision)\n",
        "print('Recall =', recall)\n",
        "print('F1 =', f1)"
      ]
    },
    {
      "attachments": {},
      "cell_type": "markdown",
      "metadata": {
        "id": "u4OU8WyZpJdD"
      },
      "source": [
        "Manual calculation of the confusion matrix:\n",
        "\n",
        "    array([[5075,   12],\n",
        "           [   1, 2179]], dtype=int64)\n",
        "\n",
        "      0  1 - predicted value (Wikipedia uses different convention for axes)\n",
        "    0 TN FP\n",
        "    1 FN TP\n",
        "\n",
        "    Точность\n",
        "    Precision = TP / (TP + FP) = 2179 / (2179 + 12) = 0.9945230488361478\n",
        "\n",
        "    Полнота\n",
        "    Recall = TP / (TP + FN) = 2179 / (2179 + 1) = 0.9995412844036697\n",
        "\n",
        "    F-мера, параметр = 1, гармоническое среднее точности и полноты, множитель = 2\n",
        "    F1 = 2 * (precision * recall) / (precision + recall) = 0.9970258522077328\n",
        "\n",
        "    Доля правильных ответов\n",
        "    Accuracy = TP + TN / (TP + TN + FP + FN) = (2179 + 5075) / 7267 = 0.998211091234347"
      ]
    },
    {
      "cell_type": "code",
      "execution_count": null,
      "metadata": {
        "id": "RyyORmRrpDTz"
      },
      "outputs": [],
      "source": [
        "predict = pd.DataFrame({'Predict': rfc.predict(X_test)})\n",
        "label = pd.DataFrame({'Label': y_test})\n",
        "result = X_test.join(label).join(predict)"
      ]
    },
    {
      "cell_type": "code",
      "execution_count": null,
      "metadata": {
        "colab": {
          "base_uri": "https://localhost:8080/",
          "height": 485
        },
        "id": "Vgpf2SVmpnyp",
        "outputId": "76efaab9-06d2-4201-b2ad-c697e6e77a68"
      },
      "outputs": [],
      "source": [
        "result[result['Predict'] == 1]"
      ]
    },
    {
      "cell_type": "code",
      "execution_count": null,
      "metadata": {
        "colab": {
          "base_uri": "https://localhost:8080/",
          "height": 737
        },
        "id": "yD7m3P1lppwu",
        "outputId": "55c8b53d-79ce-4e94-ca2e-929b47ce0154"
      },
      "outputs": [],
      "source": [
        "result[410:430]"
      ]
    }
  ],
  "metadata": {
    "colab": {
      "collapsed_sections": [
        "SCEkDfpOFPQX",
        "-IEyQxBDt5sG",
        "wE4AwrX1u6Hj",
        "suPDWnoYaEPD",
        "duGKUsAzal52",
        "eLikdx9Legm0"
      ],
      "gpuType": "T4",
      "include_colab_link": true,
      "provenance": []
    },
    "kernelspec": {
      "display_name": "Python 3",
      "name": "python3"
    },
    "language_info": {
      "codemirror_mode": {
        "name": "ipython",
        "version": 3
      },
      "file_extension": ".py",
      "mimetype": "text/x-python",
      "name": "python",
      "nbconvert_exporter": "python",
      "pygments_lexer": "ipython3",
      "version": "3.11.3"
    }
  },
  "nbformat": 4,
  "nbformat_minor": 0
}
